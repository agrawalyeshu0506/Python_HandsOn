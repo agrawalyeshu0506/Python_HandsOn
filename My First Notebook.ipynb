{
 "cells": [
  {
   "cell_type": "code",
   "execution_count": 3,
   "id": "6d31b2de-505d-4952-b8f3-39a4dc4b1f9b",
   "metadata": {},
   "outputs": [
    {
     "name": "stdout",
     "output_type": "stream",
     "text": [
      "4\n"
     ]
    }
   ],
   "source": [
    "print(2+2)"
   ]
  },
  {
   "cell_type": "code",
   "execution_count": 6,
   "id": "f6d3d665-3f35-4bc8-ac12-ae6d28fc5fe0",
   "metadata": {},
   "outputs": [
    {
     "name": "stdout",
     "output_type": "stream",
     "text": [
      "8\n",
      "-2\n",
      "0.6\n",
      "15\n",
      "3\n",
      "243\n",
      "3 x 5 = 15\n"
     ]
    }
   ],
   "source": [
    "a=3\n",
    "b=5\n",
    "print(a+b) # add\n",
    "print(a-b) # sub\n",
    "print(a/b) # division\n",
    "print(a*b) # multiply\n",
    "print(a%b) # remainder\n",
    "print(a**b) # square\n",
    "print(('{} x {} = {}').format(a, b, a*b)) # print the output in specific format"
   ]
  },
  {
   "cell_type": "code",
   "execution_count": 8,
   "id": "1f8d110e-5647-4e8e-8608-5bc59244aebd",
   "metadata": {},
   "outputs": [
    {
     "name": "stdout",
     "output_type": "stream",
     "text": [
      "5.0\n"
     ]
    }
   ],
   "source": [
    "# for calculate the square root\n",
    "import math as m\n",
    "a=25\n",
    "print(m.sqrt(25))"
   ]
  },
  {
   "cell_type": "code",
   "execution_count": 11,
   "id": "dd76e514-c316-4966-b0f8-fd003d7fe74a",
   "metadata": {},
   "outputs": [
    {
     "name": "stdout",
     "output_type": "stream",
     "text": [
      "<class 'int'>\n",
      "<class 'float'>\n",
      "<class 'str'>\n",
      "<class 'str'>\n"
     ]
    }
   ],
   "source": [
    "a=10\n",
    "b=float(12.2)\n",
    "c='a'\n",
    "d='sscd'\n",
    "print(type(a))\n",
    "print(type(b))\n",
    "print(type(c))\n",
    "print(type(d))"
   ]
  },
  {
   "cell_type": "code",
   "execution_count": 68,
   "id": "8d83fec2-554c-400e-a39d-01331f5d1a1d",
   "metadata": {},
   "outputs": [
    {
     "name": "stdout",
     "output_type": "stream",
     "text": [
      "[1, 2, 3, 4, 5, 6]\n",
      "1\n",
      "2\n",
      "3\n",
      "4\n",
      "5\n",
      "6\n",
      "6\n",
      "5\n",
      "4\n",
      "3\n",
      "2\n",
      "1\n",
      "[2, 3]\n",
      "[2, 3, 4, 5, 6]\n",
      "[1, 2]\n"
     ]
    }
   ],
   "source": [
    "my_list=[1,2,3,4,5,6]\n",
    "print(my_list)\n",
    "print(my_list[0])\n",
    "print(my_list[1])\n",
    "print(my_list[2])\n",
    "print(my_list[3])\n",
    "print(my_list[4])\n",
    "print(my_list[5])\n",
    "print(my_list[-1])\n",
    "print(my_list[-2])\n",
    "print(my_list[-3])\n",
    "print(my_list[-4])\n",
    "print(my_list[-5])\n",
    "print(my_list[-6])\n",
    "print(my_list[1:3])\n",
    "print(my_list[1:])\n",
    "print(my_list[:2])\n",
    "# print(my_list[6]) this statement through index out of range"
   ]
  },
  {
   "cell_type": "code",
   "execution_count": 33,
   "id": "047282ed-a5fd-4202-a59b-71dac3b1d599",
   "metadata": {},
   "outputs": [
    {
     "name": "stdout",
     "output_type": "stream",
     "text": [
      "[1, 2, 'a', 4, 5, 6]\n",
      "[1, 2, 'a', 4, 5, 6, 9]\n",
      "[1, 'a', 4, 5, 6, 9]\n",
      "[1, 'a', 5, 6, 9]\n",
      "5\n"
     ]
    }
   ],
   "source": [
    "my_list1=[1,2,3,4,5,6]\n",
    "my_list1[2] = 'a' # we can change the element of list by accesing the index\n",
    "print(my_list1)\n",
    "my_list1.append(9) # we can add the elements as well\n",
    "print(my_list1)\n",
    "my_list1.remove(2) # this method remove the given element from the list\n",
    "print(my_list1)\n",
    "#my_list1.remove(20) this will throw error as elemnt is not present in list\n",
    "my_list1.pop(2) #this method remove the element of given index from the list\n",
    "print(my_list1)\n",
    "print(len(my_list1)) # print the length of the array"
   ]
  },
  {
   "cell_type": "code",
   "execution_count": 35,
   "id": "f8b2d51a-57c3-447a-8807-4b728f4598ed",
   "metadata": {},
   "outputs": [
    {
     "name": "stdout",
     "output_type": "stream",
     "text": [
      "[5, 5, 5, 5, 5, 5, 5, 5, 5, 5]\n"
     ]
    }
   ],
   "source": [
    "# it is easy to initialize a list of a particular size with all entries the same\n",
    "repeated_list = [5]*10\n",
    "print(repeated_list)"
   ]
  },
  {
   "cell_type": "code",
   "execution_count": 41,
   "id": "5539e549-0c1e-4d6a-9586-d9b464b0ccd7",
   "metadata": {},
   "outputs": [
    {
     "name": "stdout",
     "output_type": "stream",
     "text": [
      "[2, 3, 4, 5, 6]\n",
      "[2, 3, 100, 5, 6]\n",
      "[2, 3, 100, 5, 6]\n",
      "[2, 3, 100, 5, 6]\n",
      "[2, 3, 200, 5, 6]\n",
      "[2, 3, 100, 5, 6]\n"
     ]
    }
   ],
   "source": [
    "# copying lists is a little tricky\n",
    "original_list=[2,3,4,5,6]\n",
    "copy_list = original_list \n",
    "print(copy_list)\n",
    "copy_list[2] =100\n",
    "print(copy_list)\n",
    "print(original_list)\n",
    "# way of copying the list causes issues as when we change the element of copy list,\n",
    "#it will automatically change the elemnt of original list.\n",
    "#to avoid this, we can use copy() method\n",
    "\n",
    "copy_list1 = original_list.copy()\n",
    "print(copy_list1)\n",
    "copy_list1[2] = 200\n",
    "print(copy_list1)\n",
    "print(original_list)"
   ]
  },
  {
   "cell_type": "code",
   "execution_count": 46,
   "id": "ca30310c-9765-4b12-8d33-1347073026d1",
   "metadata": {},
   "outputs": [
    {
     "name": "stdout",
     "output_type": "stream",
     "text": [
      "[1, 2, 3, 4, 5]\n",
      "[['a', 'b'], [3, 3, 3, 3], 3, 4, 5]\n",
      "b\n",
      "3\n"
     ]
    }
   ],
   "source": [
    "new_list=[1,2,3,4,5]\n",
    "print(new_list)\n",
    "new_list[0] =['a','b'] # we can pass list inside the list\n",
    "new_list[1] = [3]*4 \n",
    "print(new_list)\n",
    "print(new_list[0][1]) # way of access the elements of nested list\n",
    "print(new_list[1][1])"
   ]
  },
  {
   "cell_type": "code",
   "execution_count": 49,
   "id": "5f6f5af9-839b-4652-b2ed-ac5dba8db478",
   "metadata": {},
   "outputs": [
    {
     "name": "stdout",
     "output_type": "stream",
     "text": [
      "(1, 2, 3, 4)\n",
      "1\n",
      "2\n",
      "3\n",
      "4\n"
     ]
    }
   ],
   "source": [
    "# a tuple is an ordered collection of values that are unchangeable and allows duplicates\n",
    "first_tuple=(1,2,3,4)\n",
    "print(first_tuple)\n",
    "print(first_tuple[0])\n",
    "print(first_tuple[1])\n",
    "print(first_tuple[2])\n",
    "print(first_tuple[3])"
   ]
  },
  {
   "cell_type": "code",
   "execution_count": 50,
   "id": "b40fbd24-be17-4968-9cfe-40d01c8ddddf",
   "metadata": {},
   "outputs": [
    {
     "ename": "TypeError",
     "evalue": "'tuple' object does not support item assignment",
     "output_type": "error",
     "traceback": [
      "\u001b[1;31m---------------------------------------------------------------------------\u001b[0m",
      "\u001b[1;31mTypeError\u001b[0m                                 Traceback (most recent call last)",
      "Cell \u001b[1;32mIn[50], line 1\u001b[0m\n\u001b[1;32m----> 1\u001b[0m first_tuple[\u001b[38;5;241m1\u001b[39m]\u001b[38;5;241m=\u001b[39m\u001b[38;5;241m4\u001b[39m\n",
      "\u001b[1;31mTypeError\u001b[0m: 'tuple' object does not support item assignment"
     ]
    }
   ],
   "source": [
    "first_tuple[1]=4   # 'tuple' object does not support item assignment"
   ]
  },
  {
   "cell_type": "code",
   "execution_count": 51,
   "id": "06f3810f-fc68-4851-b55a-313ad9b4d5d4",
   "metadata": {},
   "outputs": [
    {
     "name": "stdout",
     "output_type": "stream",
     "text": [
      "(1, 100, 3, 4)\n"
     ]
    }
   ],
   "source": [
    "#to change the value of tuple, first we have to typecast it into list and \n",
    "# do modfication and then type case it to tuple\n",
    "second_tuple=(1,2,3,4)\n",
    "typecast_list = list(second_tuple)\n",
    "typecast_list[1] = 100\n",
    "second_tuple = tuple(typecast_list)\n",
    "print(second_tuple)"
   ]
  },
  {
   "cell_type": "code",
   "execution_count": 55,
   "id": "dc08c3cc-a170-427b-9ba8-905afdef1f21",
   "metadata": {},
   "outputs": [
    {
     "name": "stdout",
     "output_type": "stream",
     "text": [
      "{1, 2, 3}\n"
     ]
    }
   ],
   "source": [
    "# a set is an unordered collection of values that are changeable and does not allow duplicates\n",
    "first_set={1,2,2,3}\n",
    "print(first_set)\n",
    "#print(first_set[0])# we can not access values by using index\n",
    "#print(first_set[1])\n",
    "#print(first_set[2])\n",
    "#print(first_set[3])"
   ]
  },
  {
   "cell_type": "code",
   "execution_count": 56,
   "id": "f6afd0d5-e0d9-466a-9e1c-20b5c1d9a7bd",
   "metadata": {},
   "outputs": [
    {
     "name": "stdout",
     "output_type": "stream",
     "text": [
      "{1, 2, 3}\n",
      "{1, 2, 3, 122}\n",
      "{1, 3, 122}\n"
     ]
    }
   ],
   "source": [
    "# we can't change values but we can add and remove entries from a set\n",
    "first_set.add(2)\n",
    "print(first_set)\n",
    "first_set.add(122)\n",
    "print(first_set)\n",
    "first_set.remove(2)\n",
    "print(first_set)"
   ]
  },
  {
   "cell_type": "code",
   "execution_count": 62,
   "id": "63b5eea3-4d9d-4e36-9599-1b637a465d4a",
   "metadata": {},
   "outputs": [
    {
     "name": "stdout",
     "output_type": "stream",
     "text": [
      "{'firstName': 'yeshu', 'lastName': 'Agarwal', 'age': 32}\n",
      "My full name is yeshu Agarwal\n"
     ]
    }
   ],
   "source": [
    "# a dictionary is a collection of values that are unordered (but indexed) and changeable\n",
    "first_dic = {\n",
    "    \"firstName\" : \"yeshu\",\n",
    "    \"lastName\" : \"Agarwal\",\n",
    "    \"age\" : 32\n",
    "}\n",
    "print(first_dic)\n",
    "print('My full name is', first_dic['firstName'], first_dic['lastName'])"
   ]
  },
  {
   "cell_type": "code",
   "execution_count": 63,
   "id": "f9f46404-c2f7-4ea3-a34d-87e3d01a4e1c",
   "metadata": {},
   "outputs": [
    {
     "name": "stdout",
     "output_type": "stream",
     "text": [
      "{'firstName': 'yeshu', 'lastName': 'Agarwal', 'age': 32, 'place': 'Hathras'}\n"
     ]
    }
   ],
   "source": [
    "first_dic['place'] ='Hathras'\n",
    "print(first_dic)"
   ]
  },
  {
   "cell_type": "code",
   "execution_count": 64,
   "id": "844aad8a-b893-4731-936b-b54e5987dc12",
   "metadata": {},
   "outputs": [
    {
     "name": "stdout",
     "output_type": "stream",
     "text": [
      "{'firstName': 'yeshu', 'lastName': 'Agarwal', 'age': 32, 'place': 'Hathras', 'education': 'B.Tech'}\n"
     ]
    }
   ],
   "source": [
    "first_dic[\"education\"] =\"B.Tech\"\n",
    "print(first_dic)"
   ]
  },
  {
   "cell_type": "code",
   "execution_count": null,
   "id": "b3837b02-c32b-4bf6-bb68-b9d3e1274dae",
   "metadata": {},
   "outputs": [],
   "source": []
  }
 ],
 "metadata": {
  "kernelspec": {
   "display_name": "Python [conda env:base] *",
   "language": "python",
   "name": "conda-base-py"
  },
  "language_info": {
   "codemirror_mode": {
    "name": "ipython",
    "version": 3
   },
   "file_extension": ".py",
   "mimetype": "text/x-python",
   "name": "python",
   "nbconvert_exporter": "python",
   "pygments_lexer": "ipython3",
   "version": "3.13.5"
  }
 },
 "nbformat": 4,
 "nbformat_minor": 5
}
