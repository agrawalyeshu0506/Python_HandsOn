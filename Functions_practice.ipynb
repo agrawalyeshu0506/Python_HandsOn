{
 "cells": [
  {
   "cell_type": "code",
   "execution_count": 3,
   "id": "2164520f-e71e-407e-ab73-9dee836af15c",
   "metadata": {},
   "outputs": [
    {
     "name": "stdout",
     "output_type": "stream",
     "text": [
      "('my name is', 'yeshu Agarwal')\n"
     ]
    }
   ],
   "source": [
    "def my_first_pyFunc(x):\n",
    "    return 'my name is', x\n",
    "\n",
    "a = my_first_pyFunc('yeshu Agarwal')\n",
    "print(a)\n",
    "    "
   ]
  },
  {
   "cell_type": "code",
   "execution_count": 9,
   "id": "478b1c5c-d8c2-4624-9e83-fe79e4546a20",
   "metadata": {},
   "outputs": [
    {
     "name": "stdout",
     "output_type": "stream",
     "text": [
      "I am outside variable. Please check whether I am accesible inside function or not\n",
      "12.56\n",
      "This function is to calculate the area of circle \n",
      "3.14\n"
     ]
    }
   ],
   "source": [
    "outside_var = 'I am outside variable. Please check whether I am accesible inside function or not'\n",
    "def calculate_circle_area(radius):\n",
    "    \"\"\" This function is to calculate the area of circle \"\"\"\n",
    "    global pi\n",
    "    pi = 3.14\n",
    "    print(outside_var)\n",
    "    return pi*radius**2\n",
    "\n",
    "area = calculate_circle_area(2)\n",
    "print(area)\n",
    "print(calculate_circle_area.__doc__) \n",
    "print(pi)"
   ]
  },
  {
   "cell_type": "code",
   "execution_count": 12,
   "id": "60f4325d-590a-464b-b980-604ae9b400a1",
   "metadata": {},
   "outputs": [
    {
     "name": "stdout",
     "output_type": "stream",
     "text": [
      "<function <lambda> at 0x000001A97EC61800>\n",
      "9\n"
     ]
    }
   ],
   "source": [
    "lambda_func = lambda x : x*x\n",
    "print(lambda_func)\n",
    "print(lambda_func(3))"
   ]
  },
  {
   "cell_type": "code",
   "execution_count": 14,
   "id": "73f28c9d-7ef1-4066-9566-143b28350ddf",
   "metadata": {},
   "outputs": [
    {
     "name": "stdout",
     "output_type": "stream",
     "text": [
      "24\n"
     ]
    }
   ],
   "source": [
    "another_lampbda = lambda x,y,z: x*y*z\n",
    "print(another_lampbda(2,3,4))"
   ]
  },
  {
   "cell_type": "code",
   "execution_count": null,
   "id": "b78930e3-a558-4035-b97f-1c675c9d22cf",
   "metadata": {},
   "outputs": [],
   "source": []
  }
 ],
 "metadata": {
  "kernelspec": {
   "display_name": "Python [conda env:base] *",
   "language": "python",
   "name": "conda-base-py"
  },
  "language_info": {
   "codemirror_mode": {
    "name": "ipython",
    "version": 3
   },
   "file_extension": ".py",
   "mimetype": "text/x-python",
   "name": "python",
   "nbconvert_exporter": "python",
   "pygments_lexer": "ipython3",
   "version": "3.13.5"
  }
 },
 "nbformat": 4,
 "nbformat_minor": 5
}
