{
 "cells": [
  {
   "cell_type": "code",
   "execution_count": 19,
   "id": "fc519458-35e8-47d2-ae4b-e48dbc098e51",
   "metadata": {},
   "outputs": [
    {
     "name": "stdout",
     "output_type": "stream",
     "text": [
      "[1, 2, 3, 4, 5, 6, 7, 8, 9, 10]\n",
      "1  is inside the for loop\n",
      "2  is inside the for loop\n",
      "3  is inside the for loop\n",
      "4  is inside the for loop\n",
      "5  is inside the for loop\n",
      "6  is inside the for loop\n",
      "7  is inside the for loop\n",
      "8  is inside the for loop\n",
      "9  is inside the for loop\n",
      "10  is inside the for loop\n",
      "I am outside the for loop\n"
     ]
    }
   ],
   "source": [
    "#for loop\n",
    "my_list = [1,2,3,4,5,6,7,8,9,10]\n",
    "print(my_list)\n",
    "for i in my_list:\n",
    "    print(i ,' is inside the for loop')\n",
    "print('I am outside the for loop')\n",
    "    "
   ]
  },
  {
   "cell_type": "code",
   "execution_count": 4,
   "id": "67d253f1-30b8-49cc-87bb-9b08d397c986",
   "metadata": {},
   "outputs": [
    {
     "name": "stdout",
     "output_type": "stream",
     "text": [
      "calculation start for i 10\n",
      "10\n",
      "20\n",
      "30\n",
      "40\n",
      "50\n",
      "60\n",
      "70\n",
      "80\n",
      "90\n",
      "calculation end for i 10\n",
      "calculation start for i 100\n",
      "100\n",
      "200\n",
      "300\n",
      "400\n",
      "500\n",
      "600\n",
      "700\n",
      "800\n",
      "900\n",
      "calculation end for i 100\n"
     ]
    }
   ],
   "source": [
    "inner_list=[1,2,3,4,5,6,7,8,9]\n",
    "outer_list = [10,100]\n",
    "for i in outer_list:\n",
    "    print('calculation start for i', i)\n",
    "    for j in inner_list:\n",
    "        print(i*j)\n",
    "    print('calculation end for i', i)    \n"
   ]
  },
  {
   "cell_type": "code",
   "execution_count": 8,
   "id": "7a495a94-73b8-4f5f-8230-827d67530c8f",
   "metadata": {},
   "outputs": [
    {
     "name": "stdout",
     "output_type": "stream",
     "text": [
      "3\n",
      "4\n",
      "5\n",
      "6\n"
     ]
    }
   ],
   "source": [
    "for i in inner_list[2:6]:\n",
    "    print(i)"
   ]
  },
  {
   "cell_type": "code",
   "execution_count": 9,
   "id": "e2371c47-2da0-4655-9c08-7b6276f1c91a",
   "metadata": {},
   "outputs": [
    {
     "data": {
      "text/plain": [
       "range(0, 9)"
      ]
     },
     "execution_count": 9,
     "metadata": {},
     "output_type": "execute_result"
    }
   ],
   "source": [
    "range(0,9)"
   ]
  },
  {
   "cell_type": "code",
   "execution_count": 11,
   "id": "ad8f9bbf-ee80-4087-9114-6e89de0f4c75",
   "metadata": {},
   "outputs": [
    {
     "name": "stdout",
     "output_type": "stream",
     "text": [
      "1\n",
      "2\n",
      "3\n",
      "4\n",
      "5\n",
      "6\n",
      "7\n",
      "8\n"
     ]
    }
   ],
   "source": [
    "for i in range(1,9):\n",
    "    print(i)"
   ]
  },
  {
   "cell_type": "code",
   "execution_count": 12,
   "id": "8f0595de-838e-4e75-83a6-15cc8fd715f5",
   "metadata": {},
   "outputs": [
    {
     "name": "stdout",
     "output_type": "stream",
     "text": [
      "0\n",
      "1\n",
      "2\n",
      "3\n",
      "4\n"
     ]
    }
   ],
   "source": [
    "for i in range(5):\n",
    "    print(i)\n"
   ]
  },
  {
   "cell_type": "code",
   "execution_count": 13,
   "id": "40c532fe-472c-497a-b534-9055dc736587",
   "metadata": {},
   "outputs": [
    {
     "name": "stdout",
     "output_type": "stream",
     "text": [
      "1\n",
      "3\n",
      "5\n",
      "7\n"
     ]
    }
   ],
   "source": [
    "for i in range(1,9,2):\n",
    "    print(i)"
   ]
  },
  {
   "cell_type": "code",
   "execution_count": 14,
   "id": "60069551-7399-4a99-8099-704e680d1d13",
   "metadata": {},
   "outputs": [
    {
     "data": {
      "text/plain": [
       "[0, 1, 2, 3, 4, 5, 6, 7, 8]"
      ]
     },
     "execution_count": 14,
     "metadata": {},
     "output_type": "execute_result"
    }
   ],
   "source": [
    "# we can convert a range type to a list though\n",
    "list(range(0,9))"
   ]
  },
  {
   "cell_type": "code",
   "execution_count": 22,
   "id": "575c5f19-7020-4376-ae47-fa6f130c98ee",
   "metadata": {},
   "outputs": [
    {
     "name": "stdout",
     "output_type": "stream",
     "text": [
      "1 is odd\n",
      "2 is even\n",
      "3 is odd\n",
      "4 is even\n",
      "5 is odd\n",
      "6 is even\n",
      "7 is odd\n",
      "8 is even\n",
      "9 is odd\n",
      "0 is zero\n",
      "I am outside the while loop\n"
     ]
    }
   ],
   "source": [
    "#while loop\n",
    "whole_list=[1,2,3,4,5,6,7,8,9,0]\n",
    "i=0\n",
    "while i< len(whole_list):\n",
    "    if(whole_list[i] == 0):\n",
    "        print(whole_list[i], 'is zero')\n",
    "    elif(whole_list[i]%2==0):\n",
    "        print(whole_list[i] , 'is even')\n",
    "    else:\n",
    "        print(whole_list[i], 'is odd')\n",
    "    i= i+1\n",
    "print('I am outside the while loop')    "
   ]
  },
  {
   "cell_type": "code",
   "execution_count": 25,
   "id": "90799843-2522-4f48-8a79-514d94d1d903",
   "metadata": {},
   "outputs": [
    {
     "name": "stdout",
     "output_type": "stream",
     "text": [
      "you scored C grade\n"
     ]
    }
   ],
   "source": [
    "marks = 65\n",
    "if(marks>= 80):\n",
    "    print('you scored A grade')\n",
    "elif(marks<80 and marks>=70):\n",
    "    print('You scired B grade')\n",
    "elif(marks > 60 and marks < 70 ):\n",
    "    print('you scored C grade')"
   ]
  },
  {
   "cell_type": "code",
   "execution_count": 28,
   "id": "9c5aa571-ad18-46ad-93e0-ec6a96c4a571",
   "metadata": {},
   "outputs": [
    {
     "name": "stdout",
     "output_type": "stream",
     "text": [
      "Passed\n"
     ]
    }
   ],
   "source": [
    "grade = 'B'\n",
    "if(grade == 'A'):\n",
    "    print('Passed with distinction')\n",
    "elif(grade == 'B' or grade == 'C') :\n",
    "    print('Passed')\n",
    "else:\n",
    "    print('Failed')"
   ]
  },
  {
   "cell_type": "code",
   "execution_count": null,
   "id": "96d0ce42-3b75-484e-b68d-514af6049671",
   "metadata": {},
   "outputs": [],
   "source": []
  }
 ],
 "metadata": {
  "kernelspec": {
   "display_name": "Python [conda env:base] *",
   "language": "python",
   "name": "conda-base-py"
  },
  "language_info": {
   "codemirror_mode": {
    "name": "ipython",
    "version": 3
   },
   "file_extension": ".py",
   "mimetype": "text/x-python",
   "name": "python",
   "nbconvert_exporter": "python",
   "pygments_lexer": "ipython3",
   "version": "3.13.5"
  }
 },
 "nbformat": 4,
 "nbformat_minor": 5
}
